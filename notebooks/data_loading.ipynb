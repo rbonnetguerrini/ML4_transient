{
 "cells": [
  {
   "cell_type": "code",
   "execution_count": 1,
   "id": "4141eec7",
   "metadata": {},
   "outputs": [
    {
     "name": "stdout",
     "output_type": "stream",
     "text": [
      "Loading dataset...\n",
      "Dataset loaded in 0.13 seconds\n",
      "\n",
      "Creating PyTorch dataset (loads only labels)...\n",
      "Building sample index...\n",
      "Creating splits from 8490713 samples...\n",
      "Loading 5943498 cutouts...\n",
      "Loading 849072 cutouts...\n",
      "Loading 1698143 cutouts...\n",
      "split created in 1024.36 seconds\n",
      "\n",
      "creating val...\n",
      "Val label: PytorchDataset(849072 samples)\n",
      "  Image shape: (849072, 30, 30)\n",
      "  Labels: 0 injected, 849072 real (retrieved in 0.0027 seconds)\n",
      "\n",
      "creating train...\n",
      "train label: PytorchDataset(5943498 samples)\n",
      "  Image shape: (5943498, 30, 30)\n",
      "  Labels: 0 injected, 5943498 real (retrieved in 0.0156 seconds)\n"
     ]
    }
   ],
   "source": [
    "import time\n",
    "from ML4transients.data_access import DatasetLoader\n",
    "from ML4transients.training import PytorchDataset\n",
    "\n",
    "# Load the dataset (index-only loading)\n",
    "print(\"Loading dataset...\")\n",
    "t0 = time.time()\n",
    "dataset = DatasetLoader('/sps/lsst/groups/transients/HSC/fouchez/raphael/UDEEP_COSMOS2')\n",
    "print(f\"Dataset loaded in {time.time() - t0:.2f} seconds\")\n",
    "\n",
    "# Create PyTorch dataset (should load only labels)\n",
    "print(\"\\nCreating PyTorch dataset (loads only labels)...\")\n",
    "t1 = time.time()\n",
    "datasets = PytorchDataset.create_splits(dataset, random_state=42)\n",
    "print(f\"split created in {time.time() - t1:.2f} seconds\")\n",
    "\n",
    "# Access label of first sample (fast, from preloaded label column)\n",
    "print(\"\\ncreating val...\")\n",
    "t2 = time.time()\n",
    "val_dataset = datasets['val'] \n",
    "print(f\"Val label: {val_dataset} (retrieved in {time.time() - t2:.4f} seconds)\")\n",
    "\n",
    "print(\"\\ncreating train...\")\n",
    "t3 = time.time()\n",
    "train_dataset = datasets['train'] \n",
    "print(f\"train label: {train_dataset} (retrieved in {time.time() - t3:.4f} seconds)\")"
   ]
  },
  {
   "cell_type": "code",
   "execution_count": null,
   "id": "985526f5",
   "metadata": {},
   "outputs": [],
   "source": []
  }
 ],
 "metadata": {
  "kernelspec": {
   "display_name": "env_ML",
   "language": "python",
   "name": "env_ML"
  },
  "language_info": {
   "codemirror_mode": {
    "name": "ipython",
    "version": 3
   },
   "file_extension": ".py",
   "mimetype": "text/x-python",
   "name": "python",
   "nbconvert_exporter": "python",
   "pygments_lexer": "ipython3",
   "version": "3.9.22"
  }
 },
 "nbformat": 4,
 "nbformat_minor": 5
}
